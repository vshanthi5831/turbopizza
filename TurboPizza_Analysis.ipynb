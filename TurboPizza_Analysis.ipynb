{
 "cells": [
  {
   "cell_type": "code",
   "execution_count": 1,
   "id": "65291b6d",
   "metadata": {},
   "outputs": [
    {
     "ename": "ModuleNotFoundError",
     "evalue": "No module named 'pandas'",
     "output_type": "error",
     "traceback": [
      "\u001b[31m---------------------------------------------------------------------------\u001b[39m",
      "\u001b[31mModuleNotFoundError\u001b[39m                       Traceback (most recent call last)",
      "\u001b[36mCell\u001b[39m\u001b[36m \u001b[39m\u001b[32mIn[1]\u001b[39m\u001b[32m, line 1\u001b[39m\n\u001b[32m----> \u001b[39m\u001b[32m1\u001b[39m \u001b[38;5;28;01mimport\u001b[39;00m\u001b[38;5;250m \u001b[39m\u001b[34;01mpandas\u001b[39;00m\u001b[38;5;250m \u001b[39m\u001b[38;5;28;01mas\u001b[39;00m\u001b[38;5;250m \u001b[39m\u001b[34;01mpd\u001b[39;00m\n\u001b[32m      2\u001b[39m \u001b[38;5;28;01mimport\u001b[39;00m\u001b[38;5;250m \u001b[39m\u001b[34;01mnumpy\u001b[39;00m\u001b[38;5;250m \u001b[39m\u001b[38;5;28;01mas\u001b[39;00m\u001b[38;5;250m \u001b[39m\u001b[34;01mnp\u001b[39;00m\n\u001b[32m      3\u001b[39m \u001b[38;5;28;01mimport\u001b[39;00m\u001b[38;5;250m \u001b[39m\u001b[34;01mseaborn\u001b[39;00m\u001b[38;5;250m \u001b[39m\u001b[38;5;28;01mas\u001b[39;00m\u001b[38;5;250m \u001b[39m\u001b[34;01msns\u001b[39;00m\n",
      "\u001b[31mModuleNotFoundError\u001b[39m: No module named 'pandas'"
     ]
    }
   ],
   "source": [
    "import pandas as pd\n",
    "import numpy as np\n",
    "import seaborn as sns\n",
    "import matplotlib.pyplot as plt"
   ]
  },
  {
   "cell_type": "code",
   "execution_count": null,
   "id": "07fdf3d6",
   "metadata": {},
   "outputs": [],
   "source": [
    "df = pd.read_excel('C:\\\\Users\\\\vshan\\\\Downloads\\\\Copy of TurboPizza_Case_Study.xlsx')\n",
    "\n",
    "df.head()"
   ]
  },
  {
   "cell_type": "code",
   "execution_count": null,
   "id": "d1398635",
   "metadata": {},
   "outputs": [],
   "source": [
    "df.dropna(inplace = True)"
   ]
  },
  {
   "cell_type": "code",
   "execution_count": null,
   "id": "96aa2eac",
   "metadata": {},
   "outputs": [],
   "source": [
    "print(df.duplicated())"
   ]
  },
  {
   "cell_type": "code",
   "execution_count": null,
   "id": "20f94005",
   "metadata": {},
   "outputs": [],
   "source": [
    "df.drop_duplicates(inplace = True)"
   ]
  },
  {
   "cell_type": "code",
   "execution_count": null,
   "id": "b0c2ccd4",
   "metadata": {},
   "outputs": [],
   "source": [
    "print(df.duplicated())"
   ]
  },
  {
   "cell_type": "code",
   "execution_count": null,
   "id": "e815a0fe",
   "metadata": {},
   "outputs": [],
   "source": [
    "df['Proper Name'] = df['Customer Name'].str.strip().str.title()"
   ]
  },
  {
   "cell_type": "code",
   "execution_count": null,
   "id": "04919755",
   "metadata": {},
   "outputs": [],
   "source": [
    "df.head()"
   ]
  },
  {
   "cell_type": "code",
   "execution_count": null,
   "id": "38583827",
   "metadata": {},
   "outputs": [],
   "source": [
    "df['Right Aligned Names'] = df['Proper Name'].apply(lambda x: x.ljust(20))\n",
    "print(df)"
   ]
  },
  {
   "cell_type": "code",
   "execution_count": null,
   "id": "5a8bf9bf",
   "metadata": {},
   "outputs": [],
   "source": [
    "df.head()"
   ]
  },
  {
   "cell_type": "code",
   "execution_count": null,
   "id": "ac15a839",
   "metadata": {},
   "outputs": [],
   "source": [
    "print(df)"
   ]
  },
  {
   "cell_type": "code",
   "execution_count": null,
   "id": "e9ec0f27",
   "metadata": {},
   "outputs": [],
   "source": [
    "#.............................................. To be written from here.......................................................\n",
    "\n",
    "total_sales_by_pizza = df.groupby('Pizza Name')['Total Sales'].sum().sort_values(ascending=False)\n",
    "orders_by_region = df.groupby('Region')['Quantity'].count()"
   ]
  },
  {
   "cell_type": "code",
   "execution_count": null,
   "id": "9101696e",
   "metadata": {},
   "outputs": [],
   "source": [
    "print(df.columns)"
   ]
  },
  {
   "cell_type": "code",
   "execution_count": null,
   "id": "5d1b5ac3",
   "metadata": {},
   "outputs": [],
   "source": [
    "print(total_sales_by_pizza)\n",
    "print(orders_by_region)"
   ]
  },
  {
   "cell_type": "code",
   "execution_count": null,
   "id": "02043242",
   "metadata": {},
   "outputs": [],
   "source": [
    "sales_wrt_month = df.groupby(df['Order Date'].dt.month)['Total Sales'].sum()\n",
    "print(sales_wrt_month)"
   ]
  },
  {
   "cell_type": "code",
   "execution_count": null,
   "id": "1ccd9823",
   "metadata": {},
   "outputs": [],
   "source": [
    "sales_per_month = sales_wrt_month.index.to_series().apply(lambda x: pd.to_datetime(str(x), format='%m').strftime('%B'))\n",
    "sales_wrt_month.index = sales_per_month"
   ]
  },
  {
   "cell_type": "code",
   "execution_count": null,
   "id": "db6550fd",
   "metadata": {},
   "outputs": [],
   "source": [
    "print(sales_wrt_month)"
   ]
  },
  {
   "cell_type": "code",
   "execution_count": null,
   "id": "fc01ca59",
   "metadata": {},
   "outputs": [],
   "source": [
    "pivot_quantity_by_pizza = df.pivot_table(\n",
    "    index='Pizza Name',         # Pizza Name as index\n",
    "    values='Quantity',           # Sum of Quantity\n",
    "    aggfunc='sum',               # Aggregate by sum\n",
    "    margins=True                 # Include grand total\n",
    ")\n",
    "\n",
    "print(\"Pivot Table for Total Quantity by Pizza Type:\")\n",
    "print(pivot_quantity_by_pizza)"
   ]
  },
  {
   "cell_type": "code",
   "execution_count": null,
   "id": "708da830",
   "metadata": {},
   "outputs": [],
   "source": [
    "pivot_months_vs_sales = df.pivot_table(\n",
    "    index=df['Order Date'].dt.month, #month of order        \n",
    "    values='Total Sales',           # Sum of Quantity\n",
    "    aggfunc='sum',               # Aggregate by sum\n",
    "    margins=True                 # Include grand total\n",
    ")\n",
    "\n",
    "print(\"Pivot Table for Total Sales wrt month:\")\n",
    "print(pivot_months_vs_sales)"
   ]
  },
  {
   "cell_type": "code",
   "execution_count": null,
   "id": "196deff7",
   "metadata": {},
   "outputs": [],
   "source": [
    "pivot_region_vs_sales = df.pivot_table(\n",
    "    index='Region',         #region of order\n",
    "    values='Total Sales',           # Sum of Quantity\n",
    "    aggfunc='sum',               # Aggregate by sum\n",
    "    margins=True                 # Include grand total\n",
    ")\n",
    "\n",
    "print(\"Pivot Table for Total Sales wrt region:\")\n",
    "print(pivot_region_vs_sales)"
   ]
  },
  {
   "cell_type": "code",
   "execution_count": null,
   "id": "eb9ab8d9",
   "metadata": {},
   "outputs": [],
   "source": [
    "df.head()"
   ]
  },
  {
   "cell_type": "code",
   "execution_count": null,
   "id": "eee1ac68",
   "metadata": {},
   "outputs": [],
   "source": [
    "df.describe()"
   ]
  },
  {
   "cell_type": "code",
   "execution_count": null,
   "id": "3c92487d",
   "metadata": {},
   "outputs": [],
   "source": [
    "# Ensure 'Order Date' is in datetime format\n",
    "df['Order Date'] = pd.to_datetime(df['Order Date'])\n",
    "\n",
    "# Extract month and add as a new column\n",
    "df['Month'] = df['Order Date'].dt.month\n",
    "\n",
    "# Group by Month and calculate Total Sales\n",
    "sales_per_month = df.groupby('Month')['Total Sales'].sum().reset_index()"
   ]
  },
  {
   "cell_type": "code",
   "execution_count": null,
   "id": "fbd47fe7",
   "metadata": {},
   "outputs": [],
   "source": [
    "plt.figure(figsize=(4, 3))\n",
    "\n",
    "# Bar plot: Total Sales per Month\n",
    "sns.barplot(x='Month', y='Total Sales', data=sales_per_month, palette=\"Blues_d\")\n",
    "\n",
    "# Add a title and labels\n",
    "plt.title('Total Sales with Respect to Month')\n",
    "plt.xlabel('Month')\n",
    "plt.ylabel('Total Sales')\n",
    "\n",
    "# Show the plot\n",
    "plt.show()\n"
   ]
  },
  {
   "cell_type": "code",
   "execution_count": null,
   "id": "d5afbf76",
   "metadata": {},
   "outputs": [],
   "source": [
    "# Create a pivot table for Region and Pizza Name\n",
    "region_pizza_pivot = df.pivot_table(index='Region', columns='Pizza Name', values='Quantity', aggfunc='sum')\n",
    "\n",
    "# Plot heatmap\n",
    "plt.figure(figsize=(5, 3))\n",
    "sns.heatmap(region_pizza_pivot, annot=True, cmap=\"YlGnBu\", fmt=\"g\")\n",
    "plt.title(\"Number of Pizzas Sold by Region and Pizza Name\")\n",
    "plt.show()\n"
   ]
  },
  {
   "cell_type": "code",
   "execution_count": null,
   "id": "8ecf3a6c",
   "metadata": {},
   "outputs": [],
   "source": [
    "# Extract Month column from Order Date\n",
    "df['Month'] = df['Order Date'].dt.month\n",
    "\n",
    "# Create a pivot table for Region and Month\n",
    "monthly_sales_pivot = df.pivot_table(index='Region', columns='Month', values='Total Sales', aggfunc='sum', fill_value=0)\n",
    "\n",
    "# Plot heatmap\n",
    "plt.figure(figsize=(5, 3))\n",
    "sns.heatmap(monthly_sales_pivot, annot=True, cmap=\"coolwarm\", fmt=\".0f\")\n",
    "plt.title(\"Monthly Sales by Region\")\n",
    "plt.show()\n"
   ]
  },
  {
   "cell_type": "code",
   "execution_count": null,
   "id": "cdec112b",
   "metadata": {},
   "outputs": [],
   "source": [
    "from sklearn.preprocessing import LabelEncoder\n",
    "label_encoder = LabelEncoder()\n",
    "df['Pizza_Type_Encoded'] = label_encoder.fit_transform(df['Pizza Name'])\n",
    "\n",
    "# Draw regression plot: Pizza_Type_Encoded vs Total Sales\n",
    "plt.figure(figsize=(5, 3))\n",
    "sns.regplot(x='Pizza_Type_Encoded', y='Total Sales', data=df, scatter_kws={'alpha': 0.5}, line_kws={'color': 'red'})\n",
    "plt.title('Linear Regression: Pizza Type vs Total Sales')\n",
    "plt.xlabel('Pizza Type (Encoded)')\n",
    "plt.ylabel('Total Sales')\n",
    "plt.show()"
   ]
  },
  {
   "cell_type": "code",
   "execution_count": null,
   "id": "b6e23a31",
   "metadata": {},
   "outputs": [],
   "source": []
  }
 ],
 "metadata": {
  "kernelspec": {
   "display_name": "Python 3",
   "language": "python",
   "name": "python3"
  },
  "language_info": {
   "codemirror_mode": {
    "name": "ipython",
    "version": 3
   },
   "file_extension": ".py",
   "mimetype": "text/x-python",
   "name": "python",
   "nbconvert_exporter": "python",
   "pygments_lexer": "ipython3",
   "version": "3.13.1"
  }
 },
 "nbformat": 4,
 "nbformat_minor": 5
}
